{
 "cells": [
  {
   "cell_type": "markdown",
   "metadata": {},
   "source": [
    "# `collective.searchandreplace`\n",
    "## Live demo\n",
    "This is a <a href=\"../../zope/Plone/\" target=\"_blank\">live Plone site</a> where you can try the search and replace feature.\n",
    "\n",
    "It is built via the repository `buildout.cfg` parts: `instance` and `plonesite`.\n",
    "## Run tests\n",
    "The command hereunder runs all tests except the `upgrade` tests.\n",
    "\n",
    "This is configured via `-m \"not upgrade\"` in the `pytest` section of `setup.cfg`."
   ]
  },
  {
   "cell_type": "code",
   "execution_count": null,
   "metadata": {
    "scrolled": true
   },
   "outputs": [],
   "source": [
    "%cd ..\n",
    "! PLONE_VERSION=5.2 bin/pytest"
   ]
  },
  {
   "cell_type": "markdown",
   "metadata": {},
   "source": [
    "You can run the upgrade by specifying `-m upgrade`.\n",
    "\n",
    "The `-s` flag disables sdout capture. In other words, the output from the buildouts run py the upgrade tests are shown."
   ]
  },
  {
   "cell_type": "code",
   "execution_count": null,
   "metadata": {},
   "outputs": [],
   "source": [
    "! PLONE_VERSION=5.2 bin/pytest -s -m upgrade"
   ]
  },
  {
   "cell_type": "markdown",
   "metadata": {},
   "source": [
    "You can run all tests by including them all explicitely with `-m \"upgrade or not upgrade\"`."
   ]
  },
  {
   "cell_type": "code",
   "execution_count": null,
   "metadata": {},
   "outputs": [],
   "source": [
    "! PLONE_VERSION=5.2 bin/pytest -s -m \"upgrade or not upgrade\""
   ]
  },
  {
   "cell_type": "markdown",
   "metadata": {},
   "source": [
    "## Search and replace form\n",
    "Access `@@searchreplaceform` to try the search and replace feature."
   ]
  },
  {
   "cell_type": "code",
   "execution_count": null,
   "metadata": {
    "scrolled": true
   },
   "outputs": [],
   "source": [
    "%%html\n",
    "<iframe src=\"../../zope/Plone/front-page/@@searchreplaceform\" width=\"1200\" height=\"1000\"></iframe>"
   ]
  }
 ],
 "metadata": {
  "kernelspec": {
   "display_name": "Python 3",
   "language": "python",
   "name": "python3"
  },
  "language_info": {
   "codemirror_mode": {
    "name": "ipython",
    "version": 3
   },
   "file_extension": ".py",
   "mimetype": "text/x-python",
   "name": "python",
   "nbconvert_exporter": "python",
   "pygments_lexer": "ipython3",
   "version": "3.7.6"
  }
 },
 "nbformat": 4,
 "nbformat_minor": 4
}
